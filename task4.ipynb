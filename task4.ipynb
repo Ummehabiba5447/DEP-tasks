{
 "cells": [
  {
   "cell_type": "code",
   "execution_count": 5,
   "id": "76002f09-2ca9-47f0-ae9b-e57e4e90e00c",
   "metadata": {},
   "outputs": [
    {
     "name": "stdout",
     "output_type": "stream",
     "text": [
      "Requirement already satisfied: Flask in c:\\anaconda\\lib\\site-packages (2.2.5)\n",
      "Requirement already satisfied: Flask-SQLAlchemy in c:\\anaconda\\lib\\site-packages (3.1.1)\n",
      "Requirement already satisfied: Flask-JWT-Extended in c:\\anaconda\\lib\\site-packages (4.6.0)\n",
      "Requirement already satisfied: Flask-Migrate in c:\\anaconda\\lib\\site-packages (4.0.7)\n",
      "Requirement already satisfied: psycopg2-binary in c:\\anaconda\\lib\\site-packages (2.9.9)\n",
      "Requirement already satisfied: python-dotenv in c:\\anaconda\\lib\\site-packages (0.21.0)\n",
      "Requirement already satisfied: Werkzeug>=2.2.2 in c:\\anaconda\\lib\\site-packages (from Flask) (2.2.3)\n",
      "Requirement already satisfied: Jinja2>=3.0 in c:\\anaconda\\lib\\site-packages (from Flask) (3.1.3)\n",
      "Requirement already satisfied: itsdangerous>=2.0 in c:\\anaconda\\lib\\site-packages (from Flask) (2.0.1)\n",
      "Requirement already satisfied: click>=8.0 in c:\\anaconda\\lib\\site-packages (from Flask) (8.1.7)\n",
      "Requirement already satisfied: sqlalchemy>=2.0.16 in c:\\anaconda\\lib\\site-packages (from Flask-SQLAlchemy) (2.0.25)\n",
      "Requirement already satisfied: PyJWT<3.0,>=2.0 in c:\\anaconda\\lib\\site-packages (from Flask-JWT-Extended) (2.4.0)\n",
      "Requirement already satisfied: alembic>=1.9.0 in c:\\anaconda\\lib\\site-packages (from Flask-Migrate) (1.13.2)\n",
      "Requirement already satisfied: Mako in c:\\anaconda\\lib\\site-packages (from alembic>=1.9.0->Flask-Migrate) (1.3.5)\n",
      "Requirement already satisfied: typing-extensions>=4 in c:\\anaconda\\lib\\site-packages (from alembic>=1.9.0->Flask-Migrate) (4.9.0)\n",
      "Requirement already satisfied: colorama in c:\\anaconda\\lib\\site-packages (from click>=8.0->Flask) (0.4.6)\n",
      "Requirement already satisfied: MarkupSafe>=2.0 in c:\\anaconda\\lib\\site-packages (from Jinja2>=3.0->Flask) (2.1.3)\n",
      "Requirement already satisfied: greenlet!=0.4.17 in c:\\anaconda\\lib\\site-packages (from sqlalchemy>=2.0.16->Flask-SQLAlchemy) (3.0.1)\n"
     ]
    }
   ],
   "source": [
    "!pip install Flask Flask-SQLAlchemy Flask-JWT-Extended Flask-Migrate psycopg2-binary python-dotenv\n"
   ]
  },
  {
   "cell_type": "code",
   "execution_count": 6,
   "id": "675c668d-90bc-4a6a-97c3-8b4083958941",
   "metadata": {},
   "outputs": [],
   "source": [
    "import sys\n",
    "import os\n",
    "\n",
    "# Add the current directory to the system path\n",
    "sys.path.append(os.getcwd())\n"
   ]
  },
  {
   "cell_type": "code",
   "execution_count": 7,
   "id": "bb75576b-3c14-43b3-85b9-4b2919cba147",
   "metadata": {},
   "outputs": [],
   "source": [
    "#config.py\n",
    "import os\n",
    "from dotenv import load_dotenv\n",
    "\n",
    "load_dotenv()\n",
    "\n",
    "class Config:\n",
    "    SECRET_KEY = os.getenv('SECRET_KEY', 'mysecretkey')\n",
    "    SQLALCHEMY_DATABASE_URI = os.getenv('DATABASE_URL', 'sqlite:///site.db')\n",
    "    SQLALCHEMY_TRACK_MODIFICATIONS = False\n",
    "    JWT_SECRET_KEY = os.getenv('JWT_SECRET_KEY', 'myjwtsecretkey')\n"
   ]
  },
  {
   "cell_type": "code",
   "execution_count": 13,
   "id": "19c333cc-392f-48ad-b7ac-49121e475993",
   "metadata": {},
   "outputs": [],
   "source": [
    "#models.py\n",
    "from flask_sqlalchemy import SQLAlchemy\n",
    "from werkzeug.security import generate_password_hash, check_password_hash\n",
    "\n",
    "db = SQLAlchemy()\n",
    "\n",
    "class User(db.Model):\n",
    "    id = db.Column(db.Integer, primary_key=True)\n",
    "    username = db.Column(db.String(150), unique=True, nullable=False)\n",
    "    password_hash = db.Column(db.String(256), nullable=False)\n",
    "\n",
    "    def set_password(self, password):\n",
    "        self.password_hash = generate_password_hash(password)\n",
    "\n",
    "    def check_password(self, password):\n",
    "        return check_password_hash(self.password_hash, password)\n",
    "\n",
    "class Item(db.Model):\n",
    "    id = db.Column(db.Integer, primary_key=True)\n",
    "    name = db.Column(db.String(150), nullable=False)\n",
    "    description = db.Column(db.String(500), nullable=True)\n",
    "\n",
    "def item_as_dict(self):\n",
    "    return {c.name: getattr(self, c.name) for c in self.__table__.columns}\n",
    "\n",
    "Item.as_dict = item_as_dict\n"
   ]
  },
  {
   "cell_type": "code",
   "execution_count": 16,
   "id": "fac5f230-321b-4ff4-a9cf-4143ff7dd081",
   "metadata": {},
   "outputs": [],
   "source": [
    "#resources.py\n",
    "from flask import Blueprint, request, jsonify\n",
    "from flask_jwt_extended import create_access_token, jwt_required, get_jwt_identity\n",
    "from models import db, User, Item\n",
    "\n",
    "api = Blueprint('api', __name__)\n",
    "\n",
    "@api.route('/register', methods=['POST'])\n",
    "def register():\n",
    "    data = request.get_json()\n",
    "    new_user = User(username=data['username'])\n",
    "    new_user.set_password(data['password'])\n",
    "    db.session.add(new_user)\n",
    "    db.session.commit()\n",
    "    return jsonify({\"message\": \"User registered successfully\"}), 201\n",
    "\n",
    "@api.route('/login', methods=['POST'])\n",
    "def login():\n",
    "    data = request.get_json()\n",
    "    user = User.query.filter_by(username=data['username']).first()\n",
    "    if user and user.check_password(data['password']):\n",
    "        access_token = create_access_token(identity=user.id)\n",
    "        return jsonify(access_token=access_token), 200\n",
    "    return jsonify({\"message\": \"Invalid credentials\"}), 401\n",
    "\n",
    "@api.route('/items', methods=['GET'])\n",
    "@jwt_required()\n",
    "def get_items():\n",
    "    items = Item.query.all()\n",
    "    return jsonify([item.as_dict() for item in items]), 200\n",
    "\n",
    "@api.route('/items', methods=['POST'])\n",
    "@jwt_required()\n",
    "def add_item():\n",
    "    data = request.get_json()\n",
    "    new_item = Item(name=data['name'], description=data['description'])\n",
    "    db.session.add(new_item)\n",
    "    db.session.commit()\n",
    "    return jsonify(new_item.as_dict()), 201\n",
    "\n",
    "@api.route('/items/<int:id>', methods=['PUT'])\n",
    "@jwt_required()\n",
    "def update_item(id):\n",
    "    data = request.get_json()\n",
    "    item = Item.query.get_or_404(id)\n",
    "    item.name = data['name']\n",
    "    item.description = data['description']\n",
    "    db.session.commit()\n",
    "    return jsonify(item.as_dict()), 200\n",
    "\n",
    "@api.route('/items/<int:id>', methods=['DELETE'])\n",
    "@jwt_required()\n",
    "def delete_item(id):\n",
    "    item = Item.query.get_or_404(id)\n",
    "    db.session.delete(item)\n",
    "    db.session.commit()\n",
    "    return jsonify({\"message\": \"Item deleted successfully\"}), 200\n"
   ]
  },
  {
   "cell_type": "code",
   "execution_count": 17,
   "id": "f78ac778-fe40-45af-9f89-91b7ec3a2ce4",
   "metadata": {},
   "outputs": [],
   "source": [
    "#app.py\n",
    "from flask import Flask\n",
    "from flask_jwt_extended import JWTManager\n",
    "from flask_migrate import Migrate\n",
    "from config import Config\n",
    "from models import db\n",
    "from resources import api\n",
    "\n",
    "app = Flask(__name__)\n",
    "app.config.from_object(Config)\n",
    "\n",
    "db.init_app(app)\n",
    "migrate = Migrate(app, db)\n",
    "jwt = JWTManager(app)\n",
    "\n",
    "app.register_blueprint(api, url_prefix='/api')\n",
    "\n",
    "if __name__ == '__main__':\n",
    "    with app.app_context():\n",
    "        db.create_all()\n",
    "    app.run(debug=True)\n"
   ]
  },
  {
   "cell_type": "code",
   "execution_count": null,
   "id": "5dd7c87b-7222-4cee-8a5a-14cc46f2da34",
   "metadata": {},
   "outputs": [],
   "source": [
    "#.envfile\n",
    "with open('.env', 'w') as f:\n",
    "    f.write('SECRET_KEY=mysecretkey\\n')\n",
    "    f.write('JWT_SECRET_KEY=myjwtsecretkey\\n')\n",
    "    f.write('DATABASE_URL=sqlite:///site.db\\n')\n"
   ]
  },
  {
   "cell_type": "code",
   "execution_count": null,
   "id": "65851a39-1598-4be9-a6b9-0641f9364c8a",
   "metadata": {},
   "outputs": [],
   "source": [
    "!flask db init\n",
    "!flask db migrate -m \"Initial migration.\"\n",
    "!flask db upgrade\n"
   ]
  },
  {
   "cell_type": "code",
   "execution_count": 18,
   "id": "e60b5895-214d-450b-b967-56de180f9cc0",
   "metadata": {},
   "outputs": [
    {
     "name": "stderr",
     "output_type": "stream",
     "text": [
      "python: can't open file 'C:\\\\Users\\\\umeh0\\\\my_flask_api\\\\app.py': [Errno 2] No such file or directory\n"
     ]
    }
   ],
   "source": [
    "!python app.py\n"
   ]
  },
  {
   "cell_type": "code",
   "execution_count": null,
   "id": "923e9c89-16a5-475a-b4d2-2fb053939c5d",
   "metadata": {},
   "outputs": [],
   "source": []
  }
 ],
 "metadata": {
  "kernelspec": {
   "display_name": "Python 3 (ipykernel)",
   "language": "python",
   "name": "python3"
  },
  "language_info": {
   "codemirror_mode": {
    "name": "ipython",
    "version": 3
   },
   "file_extension": ".py",
   "mimetype": "text/x-python",
   "name": "python",
   "nbconvert_exporter": "python",
   "pygments_lexer": "ipython3",
   "version": "3.11.7"
  }
 },
 "nbformat": 4,
 "nbformat_minor": 5
}
